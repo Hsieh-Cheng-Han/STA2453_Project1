{
 "cells": [
  {
   "cell_type": "code",
   "execution_count": 70,
   "metadata": {},
   "outputs": [],
   "source": [
    "import requests\n",
    "from bs4 import BeautifulSoup\n",
    "import numpy as np\n",
    "import pandas as pd"
   ]
  },
  {
   "cell_type": "code",
   "execution_count": 104,
   "metadata": {},
   "outputs": [],
   "source": [
    "# url = \"https://ca.indeed.com/jobs?q=Data+Scientist&l=Toronto%2C+ON&radius=0&start=10\"\n",
    "# page = requests.get(url)\n",
    "\n",
    "# soup = BeautifulSoup(page.content, 'html.parser')"
   ]
  },
  {
   "cell_type": "code",
   "execution_count": 105,
   "metadata": {},
   "outputs": [
    {
     "data": {
      "text/plain": [
       "['Data Scientist, Advanced Analytics',\n",
       " 'Data Scientist',\n",
       " 'Data Scientist (Remote)',\n",
       " 'Investment Data Scientist, Global Diversified Program',\n",
       " 'Data Scientist',\n",
       " 'Data Scientist',\n",
       " 'Data Analyst/Financial Analyst',\n",
       " 'Director Analytics Data Reporting',\n",
       " 'Lead Data Scientist - BI Analytics',\n",
       " 'Machine Learning Engineer, Shopping Content Mining',\n",
       " 'Data Scientist, People Analytics',\n",
       " 'Data Scientist',\n",
       " 'Data Scientist',\n",
       " 'TD Securities, Data Analytics Co-op',\n",
       " 'Machine Learning-Part-time Fall Internship']"
      ]
     },
     "execution_count": 105,
     "metadata": {},
     "output_type": "execute_result"
    }
   ],
   "source": [
    "def extract_job_title(page=soup):\n",
    "    jobs = []\n",
    "    for div in page.find_all(name='div', attrs={'class':'row'}):\n",
    "        for a in div.find_all(name='a', attrs={'data-tn-element':'jobTitle'}):\n",
    "            jobs.append(a['title'])\n",
    "    return(jobs)\n",
    "\n",
    "# extract_job_title(soup)"
   ]
  },
  {
   "cell_type": "code",
   "execution_count": 106,
   "metadata": {},
   "outputs": [
    {
     "data": {
      "text/plain": [
       "['QUESTRADE INC',\n",
       " 'Southern Graphics Systems, Canada Co.',\n",
       " 'Veeva Systems',\n",
       " 'OMERS Capital Markets',\n",
       " 'Wish',\n",
       " 'Just Energy',\n",
       " 'Sunnyfuture Group',\n",
       " 'HollandGroupFinancial',\n",
       " 'float simple',\n",
       " 'Pinterest',\n",
       " 'Restaurant Brands International',\n",
       " 'QUESTRADE INC',\n",
       " 'sgsco',\n",
       " 'TD Bank',\n",
       " 'Prepr']"
      ]
     },
     "execution_count": 106,
     "metadata": {},
     "output_type": "execute_result"
    }
   ],
   "source": [
    "def extract_company(page=soup): \n",
    "    companies = []\n",
    "    for div in page.find_all(name='div', attrs={'class':'row'}):\n",
    "        company = div.find_all(name='span', attrs={'class':'company'})\n",
    "        if len(company) > 0:\n",
    "            for b in company:\n",
    "                companies.append(b.text.strip())\n",
    "    return(companies)\n",
    " \n",
    "# extract_company(soup)"
   ]
  },
  {
   "cell_type": "code",
   "execution_count": 107,
   "metadata": {},
   "outputs": [
    {
     "data": {
      "text/plain": [
       "['Nothing_found',\n",
       " 'Nothing_found',\n",
       " 'Nothing_found',\n",
       " 'Nothing_found',\n",
       " 'Nothing_found',\n",
       " 'Nothing_found',\n",
       " '$60,000 a year',\n",
       " '$100,000 - $110,000 a year',\n",
       " 'Nothing_found',\n",
       " 'Nothing_found',\n",
       " 'Nothing_found',\n",
       " 'Nothing_found',\n",
       " 'Nothing_found',\n",
       " 'Nothing_found',\n",
       " 'Nothing_found']"
      ]
     },
     "execution_count": 107,
     "metadata": {},
     "output_type": "execute_result"
    }
   ],
   "source": [
    "def extract_salary(page=soup):\n",
    "    salaries = []\n",
    "    for div in page.find_all(name='div', attrs={'class':'row'}):\n",
    "        try:\n",
    "            salary = div.find(name='span', attrs={'class':'salaryText'})\n",
    "            salaries.append(salary.text.strip())\n",
    "        except:\n",
    "            salaries.append('Nothing_found')\n",
    "    return(salaries)\n",
    "\n",
    "# extract_salary(soup)"
   ]
  },
  {
   "cell_type": "code",
   "execution_count": 108,
   "metadata": {},
   "outputs": [
    {
     "data": {
      "text/plain": [
       "[[],\n",
       " [],\n",
       " [],\n",
       " [],\n",
       " [],\n",
       " [],\n",
       " ['Language: Mandarin'],\n",
       " ['Data Integration/Warehousing: 10 years', 'SAS: 10 years', 'SQL: 5 years'],\n",
       " [],\n",
       " [],\n",
       " [],\n",
       " [],\n",
       " [],\n",
       " [],\n",
       " ['Canadian Citizen/Permanent Resident: 1 year']]"
      ]
     },
     "execution_count": 108,
     "metadata": {},
     "output_type": "execute_result"
    }
   ],
   "source": [
    "def extract_requirements(page=soup):\n",
    "    requirements = []\n",
    "    for div in page.find_all(name='div', attrs={'class':'row'}):\n",
    "        try:\n",
    "            reqs = []\n",
    "            for b in div.find_all(name='div', attrs={'class':'jobCardReqItem'}):\n",
    "                reqs.append(b.text.strip())\n",
    "            requirements.append(reqs)\n",
    "        except:\n",
    "            requirements.append('Nothing_found')\n",
    "    return(requirements)\n",
    "\n",
    "# extract_requirements(soup)"
   ]
  },
  {
   "cell_type": "code",
   "execution_count": 109,
   "metadata": {},
   "outputs": [
    {
     "data": {
      "text/plain": [
       "['You will make improvement recommendations to analytics data infrastructure.\\n✔ Have a well-developed ability to manipulate a wide variety of data using SQL and…',\n",
       " 'Visualize information and develops engaging reports on the results of data analysis using data visualization tools.\\nHave a Passion for Continuous Improvement.',\n",
       " 'As a Data Scientist for the Business Consulting team, you will work with Veeva engineers, consultants, and fellow data scientists to support analysis and…',\n",
       " 'Exposure to data modeling, data architecture, data engineering, data analysis and data science (familiarity with ETL tools, data warehousing and big data…',\n",
       " 'Maintain the integrity of data pipelines and dependant reporting.\\nThis role is looking for a data scientist that will drive high impact to the company through…',\n",
       " 'Strong business acumen and data-driven decision-making capabilities.\\nFor each premise, analyze relationship between gas/electricity usage and other factors such…',\n",
       " 'Technical expertise regarding data models, database design development, data mining and segmentation techniques.\\nCustomer interface and communication skills.',\n",
       " 'Development and implementation for data integration solutions using SQL, SAS and other data management software.\\nJob Types: Full-time, Permanent.',\n",
       " '5+ years of experience working as a data analyst.\\nBuild dashboards and visualize data in an easily consumable way for business stakeholders.',\n",
       " 'Hands-on experience with big data technologies (e.g., Hadoop/Spark) and scalable realtime systems that process stream data.\\n3+ years of industry experience.',\n",
       " 'A newly created role within RBI, we are looking for an experienced data scientist to help us build a people analytics function.',\n",
       " 'Develop powerful business insights from diverse data-sets including social, marketing, trading, transactions data using advanced machine learning techniques …',\n",
       " 'Visualize information and develops engaging reports on the results of data analysis using data visualization tools.\\nHave a Passion for Continuous Improvement.',\n",
       " 'Execute on all aspects of analytics projects; data collection, data wrangling, model development, visualization, training and stakeholder management.',\n",
       " 'About the Job: *The successful applicant will explore machine learning tools and develop algorithms to analyze labour data sets and skills data sets.']"
      ]
     },
     "execution_count": 109,
     "metadata": {},
     "output_type": "execute_result"
    }
   ],
   "source": [
    "def extract_summary(page=soup): \n",
    "    summaries = []\n",
    "    for div in page.find_all(name='div', attrs={'class':'row'}):\n",
    "        summary = div.find(name='div', attrs={'class': 'summary'})\n",
    "        summaries.append(summary.text.strip())\n",
    "    return(summaries)\n",
    "\n",
    "# extract_summary(soup)"
   ]
  },
  {
   "cell_type": "code",
   "execution_count": 127,
   "metadata": {},
   "outputs": [],
   "source": [
    "max_results_per_keyword = 200\n",
    "keyword_set = {\"data+analyst\", \"data+entry+clerk\", \"data+scientist\", \"data+engineer\", \"Statistcian\"}\n",
    "columns = [\"job_title\", \"company_name\", \"requirements\", \"summary\", \"salary\"]\n",
    "df = pd.DataFrame(columns = columns)"
   ]
  },
  {
   "cell_type": "code",
   "execution_count": 128,
   "metadata": {},
   "outputs": [
    {
     "name": "stderr",
     "output_type": "stream",
     "text": [
      "E:\\Anaconda3\\envs\\python3\\Lib\\site-packages\\bs4\\__init__.py:221: UserWarning: You provided Unicode markup but also provided a value for from_encoding. Your from_encoding will be ignored.\n",
      "  warnings.warn(\"You provided Unicode markup but also provided a value for from_encoding. Your from_encoding will be ignored.\")\n"
     ]
    },
    {
     "data": {
      "text/html": [
       "<div>\n",
       "<style scoped>\n",
       "    .dataframe tbody tr th:only-of-type {\n",
       "        vertical-align: middle;\n",
       "    }\n",
       "\n",
       "    .dataframe tbody tr th {\n",
       "        vertical-align: top;\n",
       "    }\n",
       "\n",
       "    .dataframe thead th {\n",
       "        text-align: right;\n",
       "    }\n",
       "</style>\n",
       "<table border=\"1\" class=\"dataframe\">\n",
       "  <thead>\n",
       "    <tr style=\"text-align: right;\">\n",
       "      <th></th>\n",
       "      <th>job_title</th>\n",
       "      <th>company_name</th>\n",
       "      <th>requirements</th>\n",
       "      <th>summary</th>\n",
       "      <th>salary</th>\n",
       "    </tr>\n",
       "  </thead>\n",
       "  <tbody>\n",
       "    <tr>\n",
       "      <th>0</th>\n",
       "      <td>Accounting/Data Entry Clerk - 2 Week Contract</td>\n",
       "      <td>Lannick</td>\n",
       "      <td>[]</td>\n",
       "      <td>1+ years of working experience.</td>\n",
       "      <td>$19 an hour</td>\n",
       "    </tr>\n",
       "    <tr>\n",
       "      <th>1</th>\n",
       "      <td>Intermediate Data Entry Clerk - 6 Month Contract</td>\n",
       "      <td>Lannick</td>\n",
       "      <td>[]</td>\n",
       "      <td>Completion of a speed and accuracy data entry ...</td>\n",
       "      <td>$21 an hour</td>\n",
       "    </tr>\n",
       "    <tr>\n",
       "      <th>2</th>\n",
       "      <td>Digital File Clerk - ERM Scan</td>\n",
       "      <td>Medisys Health Group, Inc.</td>\n",
       "      <td>[]</td>\n",
       "      <td>The role of Medical Office Digital Records EMR...</td>\n",
       "      <td>Nothing_found</td>\n",
       "    </tr>\n",
       "    <tr>\n",
       "      <th>3</th>\n",
       "      <td>Data Entry Clerk</td>\n",
       "      <td>Bugs Heat Terminator</td>\n",
       "      <td>[]</td>\n",
       "      <td>Maintains data entry requirements by following...</td>\n",
       "      <td>$16 an hour</td>\n",
       "    </tr>\n",
       "    <tr>\n",
       "      <th>4</th>\n",
       "      <td>Billing Data Entry Clerk</td>\n",
       "      <td>Panevo Services Limited</td>\n",
       "      <td>[Secondary School]</td>\n",
       "      <td>You have a minimum of 1 year data entry experi...</td>\n",
       "      <td>$17 an hour</td>\n",
       "    </tr>\n",
       "    <tr>\n",
       "      <th>...</th>\n",
       "      <td>...</td>\n",
       "      <td>...</td>\n",
       "      <td>...</td>\n",
       "      <td>...</td>\n",
       "      <td>...</td>\n",
       "    </tr>\n",
       "    <tr>\n",
       "      <th>10</th>\n",
       "      <td>Senior Analyst, Corporate Funding</td>\n",
       "      <td>BMO Financial Group</td>\n",
       "      <td>[]</td>\n",
       "      <td>Provides advice on the configuration, function...</td>\n",
       "      <td>Nothing_found</td>\n",
       "    </tr>\n",
       "    <tr>\n",
       "      <th>11</th>\n",
       "      <td>Guidewire Business Analyst</td>\n",
       "      <td>CGI</td>\n",
       "      <td>[]</td>\n",
       "      <td>Experience in data analysis, data mappings for...</td>\n",
       "      <td>Nothing_found</td>\n",
       "    </tr>\n",
       "    <tr>\n",
       "      <th>12</th>\n",
       "      <td>Platform Operations Analyst</td>\n",
       "      <td>Centro</td>\n",
       "      <td>[]</td>\n",
       "      <td>Configuring and deploying audience and context...</td>\n",
       "      <td>Nothing_found</td>\n",
       "    </tr>\n",
       "    <tr>\n",
       "      <th>13</th>\n",
       "      <td>Senior Business Analyst</td>\n",
       "      <td>Klick Health</td>\n",
       "      <td>[]</td>\n",
       "      <td>Continuously explores new techniques, tools an...</td>\n",
       "      <td>Nothing_found</td>\n",
       "    </tr>\n",
       "    <tr>\n",
       "      <th>14</th>\n",
       "      <td>Consulting, Salesforce, Manager (Senior Salesf...</td>\n",
       "      <td>PwC</td>\n",
       "      <td>[]</td>\n",
       "      <td>We focus on understanding our client’s challen...</td>\n",
       "      <td>Nothing_found</td>\n",
       "    </tr>\n",
       "  </tbody>\n",
       "</table>\n",
       "<p>1010 rows × 5 columns</p>\n",
       "</div>"
      ],
      "text/plain": [
       "                                            job_title  \\\n",
       "0       Accounting/Data Entry Clerk - 2 Week Contract   \n",
       "1    Intermediate Data Entry Clerk - 6 Month Contract   \n",
       "2                       Digital File Clerk - ERM Scan   \n",
       "3                                    Data Entry Clerk   \n",
       "4                            Billing Data Entry Clerk   \n",
       "..                                                ...   \n",
       "10                  Senior Analyst, Corporate Funding   \n",
       "11                         Guidewire Business Analyst   \n",
       "12                        Platform Operations Analyst   \n",
       "13                            Senior Business Analyst   \n",
       "14  Consulting, Salesforce, Manager (Senior Salesf...   \n",
       "\n",
       "                  company_name        requirements  \\\n",
       "0                      Lannick                  []   \n",
       "1                      Lannick                  []   \n",
       "2   Medisys Health Group, Inc.                  []   \n",
       "3         Bugs Heat Terminator                  []   \n",
       "4      Panevo Services Limited  [Secondary School]   \n",
       "..                         ...                 ...   \n",
       "10         BMO Financial Group                  []   \n",
       "11                         CGI                  []   \n",
       "12                      Centro                  []   \n",
       "13                Klick Health                  []   \n",
       "14                         PwC                  []   \n",
       "\n",
       "                                              summary         salary  \n",
       "0                     1+ years of working experience.    $19 an hour  \n",
       "1   Completion of a speed and accuracy data entry ...    $21 an hour  \n",
       "2   The role of Medical Office Digital Records EMR...  Nothing_found  \n",
       "3   Maintains data entry requirements by following...    $16 an hour  \n",
       "4   You have a minimum of 1 year data entry experi...    $17 an hour  \n",
       "..                                                ...            ...  \n",
       "10  Provides advice on the configuration, function...  Nothing_found  \n",
       "11  Experience in data analysis, data mappings for...  Nothing_found  \n",
       "12  Configuring and deploying audience and context...  Nothing_found  \n",
       "13  Continuously explores new techniques, tools an...  Nothing_found  \n",
       "14  We focus on understanding our client’s challen...  Nothing_found  \n",
       "\n",
       "[1010 rows x 5 columns]"
      ]
     },
     "execution_count": 128,
     "metadata": {},
     "output_type": "execute_result"
    }
   ],
   "source": [
    "for keyword in keyword_set:\n",
    "    for start in range(0, max_results_per_keyword, 10):\n",
    "        page = requests.get(\"https://ca.indeed.com/jobs?q=\" + str(keyword) + \n",
    "                            \"&l=Toronto+ON&radius=0&start=\" + str(start))\n",
    "        soup = BeautifulSoup(page.text, 'lxml', from_encoding=\"utf-8\")\n",
    "        job_titles = extract_job_title(soup)\n",
    "        companies = extract_company(soup)\n",
    "        requirements = extract_requirements(soup)\n",
    "        summaries = extract_summary(soup)\n",
    "        salaries = extract_salary(soup)\n",
    "        data = {\"job_title\":job_titles, \"company_name\":companies,\n",
    "                \"requirements\":requirements, \"summary\":summaries,\n",
    "                \"salary\":salaries}\n",
    "        temp_df = pd.DataFrame(data)\n",
    "        df = df.append(temp_df)\n",
    "\n",
    "df.to_csv(\"job_salary.csv\", encoding='utf-8')\n",
    "df"
   ]
  },
  {
   "cell_type": "code",
   "execution_count": null,
   "metadata": {},
   "outputs": [],
   "source": []
  }
 ],
 "metadata": {
  "kernelspec": {
   "display_name": "Python 3",
   "language": "python",
   "name": "python3"
  },
  "language_info": {
   "codemirror_mode": {
    "name": "ipython",
    "version": 3
   },
   "file_extension": ".py",
   "mimetype": "text/x-python",
   "name": "python",
   "nbconvert_exporter": "python",
   "pygments_lexer": "ipython3",
   "version": "3.7.4"
  }
 },
 "nbformat": 4,
 "nbformat_minor": 2
}
